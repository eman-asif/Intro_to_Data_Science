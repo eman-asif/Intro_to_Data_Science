{
 "cells": [
  {
   "cell_type": "markdown",
   "metadata": {},
   "source": [
    "## Lab Tasks\n",
    "1. Create a 1D array of integers from 1 to 20. Reshape it into a 4x5 2D array, \n",
    "then replace all elements in the last column with zeros. Finally, flatten the \n",
    "array back to 1D and print the result."
   ]
  },
  {
   "cell_type": "code",
   "execution_count": 83,
   "metadata": {},
   "outputs": [
    {
     "name": "stdout",
     "output_type": "stream",
     "text": [
      "Array: [ 1  2  3  4  5  6  7  8  9 10 11 12 13 14 15 16 17 18 19 20]\n",
      "\n",
      "Reshaped:  [[ 1  2  3  4  5]\n",
      " [ 6  7  8  9 10]\n",
      " [11 12 13 14 15]\n",
      " [16 17 18 19 20]]\n",
      "\n",
      "Last column 0: [[ 1  2  3  4  0]\n",
      " [ 6  7  8  9  0]\n",
      " [11 12 13 14  0]\n",
      " [16 17 18 19  0]]\n",
      "\n",
      "Flatten array: [ 1  2  3  4  0  6  7  8  9  0 11 12 13 14  0 16 17 18 19  0]\n"
     ]
    }
   ],
   "source": [
    "import numpy as np\n",
    "\n",
    "arr = np.arange(1,21)\n",
    "print(\"Array:\",arr)\n",
    "print()\n",
    "arr1 = np.reshape(arr, (4, 5))\n",
    "print(\"Reshaped: \",arr1)\n",
    "print()\n",
    "arr1[:,-1] = 0\n",
    "print(\"Last column 0:\",arr1)\n",
    "arr2 = arr1.flatten()\n",
    "print()\n",
    "print(\"Flatten array:\",arr2)"
   ]
  },
  {
   "cell_type": "markdown",
   "metadata": {},
   "source": [
    "2. Generate a 2D array of random integers between 10 and 50 with a shape of \n",
    "5x5. Calculate and print the mean, sum, minimum, and maximum values for \n",
    "each row and each column separately.\n"
   ]
  },
  {
   "cell_type": "code",
   "execution_count": 85,
   "metadata": {},
   "outputs": [
    {
     "name": "stdout",
     "output_type": "stream",
     "text": [
      "Original Array:  [[24 34 26 19 31]\n",
      " [35 39 49 37 43]\n",
      " [39 49 40 48 10]\n",
      " [35 42 24 21 44]\n",
      " [15 11 28 47 34]]\n",
      "\n",
      "Row wise\n",
      "[29.6 35.  33.4 34.4 32.4]\n",
      "[39 49 49 48 44]\n",
      "[148 175 167 172 162]\n",
      "[15 11 24 19 10]\n",
      "Column wise\n",
      "[26.8 40.6 37.2 33.2 27. ]\n",
      "[34 49 49 44 47]\n",
      "[134 203 186 166 135]\n",
      "[19 35 10 21 11]\n"
     ]
    }
   ],
   "source": [
    "arr = np.random.randint(10,50,size = (5,5))\n",
    "print(\"Original Array: \" ,arr)\n",
    "print()\n",
    "print('Row wise')\n",
    "print()\n",
    "print(\"Mean:\",np.mean(arr, axis = 0))\n",
    "print(\"maximum:\",np.max(arr,axis = 0))\n",
    "print(\"Sum\",np.sum(arr, axis = 0))\n",
    "print(\"Minimum\",np.min(arr,axis = 0))\n",
    "print()\n",
    "print('Column wise')\n",
    "print()\n",
    "print(\"Mean\",np.mean(arr, axis = 1))\n",
    "print(\"Maximum\",np.max(arr,axis = 1))\n",
    "print(\"Sum\",np.sum(arr, axis = 1))\n",
    "print(\"Minimum\",\n",
    "      np.min(arr,axis = 1))"
   ]
  },
  {
   "cell_type": "markdown",
   "metadata": {},
   "source": [
    "3. Create an identity matrix of size 4x4. Add a constant (e.g., 5) to each \n",
    "element in the diagonal, and then replace the last row with a row of ones. \n",
    "Print the final matrix.\n"
   ]
  },
  {
   "cell_type": "code",
   "execution_count": 86,
   "metadata": {},
   "outputs": [
    {
     "name": "stdout",
     "output_type": "stream",
     "text": [
      "[[5 0 0 0]\n",
      " [0 5 0 0]\n",
      " [0 0 5 0]\n",
      " [1 1 1 1]]\n"
     ]
    }
   ],
   "source": [
    "arr = np.identity(4,dtype = int)\n",
    "\n",
    "arr = arr * 5\n",
    "arr[3] = 1\n",
    "print(arr)"
   ]
  },
  {
   "cell_type": "markdown",
   "metadata": {},
   "source": [
    "4. Generate a 1D array of 15 random integers between 0 and 20. Count and \n",
    "display the number of occurrences of each unique value in the array, and list \n",
    "the indices of elements greater than 10"
   ]
  },
  {
   "cell_type": "code",
   "execution_count": 79,
   "metadata": {},
   "outputs": [
    {
     "name": "stdout",
     "output_type": "stream",
     "text": [
      "[[11 14 11 11 13 16 15  2 14  2  5 15 10  2 19]]\n",
      "unique: [ 2  5 10 11 13 14 15 16 19]\n",
      "count [3 1 1 3 1 2 2 1 1]\n",
      "greater than 10 [ 0  1  2  3  4  5  6  8 11 14]\n"
     ]
    }
   ],
   "source": [
    "arr = np.random.randint(0,20,size = (1,15))\n",
    "print(arr)\n",
    "arr1,count = np.unique(arr,return_counts = True)\n",
    "print(\"unique:\",arr1) \n",
    "print('count', count)\n",
    "n , m = np.where(arr>10)\n",
    "print(\"greater than 10\", m)"
   ]
  },
  {
   "cell_type": "markdown",
   "metadata": {},
   "source": [
    "5. Create a 3x4 array filled with random floating-point numbers between 0 and \n",
    "1 . Round each element to two decimal places, replace the elements in the \n",
    "second column with 0.5, and print the modified array."
   ]
  },
  {
   "cell_type": "code",
   "execution_count": 57,
   "metadata": {},
   "outputs": [
    {
     "data": {
      "text/plain": [
       "array([[0.11, 0.5 , 0.02, 0.32],\n",
       "       [0.94, 0.5 , 0.93, 0.4 ],\n",
       "       [0.08, 0.5 , 0.7 , 0.19]])"
      ]
     },
     "execution_count": 57,
     "metadata": {},
     "output_type": "execute_result"
    }
   ],
   "source": [
    "arr = np.random.random(size = (3,4))\n",
    "arr1 = np.round(arr,2)\n",
    "arr1[:,1] = 0.5\n",
    "arr1"
   ]
  }
 ],
 "metadata": {
  "kernelspec": {
   "display_name": "Python 3",
   "language": "python",
   "name": "python3"
  },
  "language_info": {
   "codemirror_mode": {
    "name": "ipython",
    "version": 3
   },
   "file_extension": ".py",
   "mimetype": "text/x-python",
   "name": "python",
   "nbconvert_exporter": "python",
   "pygments_lexer": "ipython3",
   "version": "3.12.0"
  }
 },
 "nbformat": 4,
 "nbformat_minor": 2
}
