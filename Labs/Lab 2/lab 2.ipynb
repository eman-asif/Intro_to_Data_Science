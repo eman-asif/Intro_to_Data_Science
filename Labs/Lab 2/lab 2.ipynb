{
 "cells": [
  {
   "cell_type": "markdown",
   "metadata": {},
   "source": [
    "## Lab 2\n"
   ]
  },
  {
   "cell_type": "markdown",
   "metadata": {},
   "source": [
    "### TASK 1\n",
    "You are processing player statistics for a sports analytics application. \n",
    "1. Create a NumPy array for player statistics (heights, weights, points scored). \n",
    "2. Update the weight of the player with the maximum points scored. \n",
    "3. Append a new player's statistics to the array. \n",
    "4. Insert a new statistic at a specified index within the array. \n",
    "5. Delete the player with the lowest points scored"
   ]
  },
  {
   "cell_type": "code",
   "execution_count": 49,
   "metadata": {},
   "outputs": [
    {
     "name": "stdout",
     "output_type": "stream",
     "text": [
      "Original Array:  [[43 20 23]\n",
      " [43 10 39]\n",
      " [37  1  2]\n",
      " [ 4 46 11]\n",
      " [40  1 46]\n",
      " [40 24 40]\n",
      " [ 7  7 30]\n",
      " [ 9 46 28]\n",
      " [20  6 42]\n",
      " [ 2 39  9]]\n"
     ]
    }
   ],
   "source": [
    "import numpy as np\n",
    "arr = np.random.randint(1,50,(10,3),dtype= np.uint8)\n",
    "print(\"Original Array: \",arr)\n",
    "# print(arr2)"
   ]
  },
  {
   "cell_type": "code",
   "execution_count": 54,
   "metadata": {},
   "outputs": [
    {
     "data": {
      "text/plain": [
       "array([[43, 20, 23],\n",
       "       [43, 10, 39],\n",
       "       [37,  1,  2],\n",
       "       [ 4, 46, 11],\n",
       "       [40, 51, 46],\n",
       "       [40, 24, 40],\n",
       "       [ 7,  7, 30],\n",
       "       [ 9, 46, 28],\n",
       "       [20,  6, 42],\n",
       "       [ 2, 39,  9]], dtype=uint8)"
      ]
     },
     "execution_count": 54,
     "metadata": {},
     "output_type": "execute_result"
    }
   ],
   "source": [
    "maximum = np.max(arr[:,2])\n",
    "mask = np.where(arr[:,2] == maximum)\n",
    "arr\n",
    "arr[mask,1] = 51\n",
    "arr\n"
   ]
  },
  {
   "cell_type": "code",
   "execution_count": 55,
   "metadata": {},
   "outputs": [
    {
     "name": "stdout",
     "output_type": "stream",
     "text": [
      "After appending: [[43 20 23]\n",
      " [43 10 39]\n",
      " [37  1  2]\n",
      " [ 4 46 11]\n",
      " [40 51 46]\n",
      " [40 24 40]\n",
      " [ 7  7 30]\n",
      " [ 9 46 28]\n",
      " [20  6 42]\n",
      " [ 2 39  9]\n",
      " [10 12 18]]\n"
     ]
    }
   ],
   "source": [
    "arr1 = np.append(arr,[[10,12,18]],axis = 0)\n",
    "print(\"After appending:\",arr1)"
   ]
  },
  {
   "cell_type": "code",
   "execution_count": 56,
   "metadata": {},
   "outputs": [
    {
     "name": "stdout",
     "output_type": "stream",
     "text": [
      "\n",
      "After insertion\n",
      "[[43 20 23]\n",
      " [10 12 18]\n",
      " [43 10 39]\n",
      " [37  1  2]\n",
      " [ 4 46 11]\n",
      " [40 51 46]\n",
      " [40 24 40]\n",
      " [ 7  7 30]\n",
      " [ 9 46 28]\n",
      " [20  6 42]\n",
      " [ 2 39  9]]\n"
     ]
    }
   ],
   "source": [
    "arr2 = np.insert(arr,1,[[10,12,18]],axis = 0)\n",
    "print()\n",
    "print(\"After insertion\")\n",
    "print(arr2)"
   ]
  },
  {
   "cell_type": "code",
   "execution_count": 53,
   "metadata": {},
   "outputs": [
    {
     "name": "stdout",
     "output_type": "stream",
     "text": [
      "(array([2]),)\n",
      "After deletion\n",
      "[[43 20 23]\n",
      " [43 10 39]\n",
      " [ 4 46 11]\n",
      " [40 51 46]\n",
      " [40 24 40]\n",
      " [ 7  7 30]\n",
      " [ 9 46 28]\n",
      " [20  6 42]\n",
      " [ 2 39  9]]\n"
     ]
    }
   ],
   "source": [
    "minimum = np.min(arr[:,2])\n",
    "mask = np.where(arr[:,2] == minimum)\n",
    "print(mask)\n",
    "arr3 = np.delete(arr,mask,axis = 0)\n",
    "print(\"After deletion\")\n",
    "print(arr3)"
   ]
  },
  {
   "cell_type": "markdown",
   "metadata": {},
   "source": [
    "### Task 2:  \n",
    "Scenario: You are analyzing customer purchases. \n",
    "1. Create two NumPy arrays for purchase amounts and item counts. \n",
    "2. Create a shallow copy of one and a deep copy of the other. \n",
    "3. Concatenate both arrays. \n",
    "4. Split the concatenated array based on a condition. \n",
    "5. Modify the original arrays and analyze the effects on the copies. "
   ]
  },
  {
   "cell_type": "code",
   "execution_count": 81,
   "metadata": {},
   "outputs": [
    {
     "name": "stdout",
     "output_type": "stream",
     "text": [
      "Concatenated Array: [33 11 32 34 37 24 29 17 42 11 41 49 19 46 21 36 30 45  4 33]\n",
      "\n",
      "Splited Arrays: [11 11  4] [33 32 34 37 24 29 17 42 41 49 19 46 21 36 30 45 33]\n",
      "\n",
      "Shallow Copy: [33 11 32 34 37 10 29 17 42 11] Purchase [33 11 32 34 37 10 29 17 42 11]\n",
      "\n",
      "Deep Copy:  [41 49 19 46 21 51 30 45  4 33] Item counts: [41 49 19 46 21 36 30 45  4 33]\n"
     ]
    }
   ],
   "source": [
    "purchase = np.random.randint(1,50,10)\n",
    "item_counts = np.random.randint(1,50,10)\n",
    "shallow = purchase.view()\n",
    "deep = item_counts.copy()\n",
    "concatenated_array = np.concatenate((purchase,item_counts))\n",
    "print(\"Concatenated Array:\",concatenated_array)\n",
    "print()\n",
    "\n",
    "mask = concatenated_array > 15\n",
    "splited_array1 = concatenated_array[mask]\n",
    "splited_array2 = concatenated_array[~mask]\n",
    "\n",
    "print(\"Splited Arrays:\",splited_array2,splited_array1)\n",
    "print()\n",
    "shallow[5] = 10\n",
    "print(\"Shallow Copy:\",shallow,\"Purchase\",purchase)\n",
    "print()\n",
    "deep[5] = 51\n",
    "print(\"Deep Copy: \",deep,\"Item counts:\",item_counts)"
   ]
  },
  {
   "cell_type": "markdown",
   "metadata": {},
   "source": [
    "#### Bonus Task: Advanced Git Commands \n",
    "Scenario: You are working on a collaborative project and need to manage your changes \n",
    "effectively. Answer the following questions related to Git commands. \n",
    "1. Write down the Git command that allows you to temporarily save your uncommitted \n",
    "changes without committing them. Explain a situation in which this command would \n",
    "be useful during development. \n",
    "2. After you have temporarily saved your changes, how would you view the list of saved \n",
    "changes? Provide the command you would use. \n",
    "3. You decide that you want to reapply the most recent saved changes back to your \n",
    "working directory. Which command would you use for this operation, and what \n",
    "happens to the saved changes after you do this? \n",
    "4. If you want to remove a specific saved change entry after you have reapplied it, which \n",
    "command would you use? What should you consider before executing this command?"
   ]
  },
  {
   "cell_type": "markdown",
   "metadata": {},
   "source": [
    "stash\n",
    "status\n"
   ]
  }
 ],
 "metadata": {
  "kernelspec": {
   "display_name": "Python 3",
   "language": "python",
   "name": "python3"
  },
  "language_info": {
   "codemirror_mode": {
    "name": "ipython",
    "version": 3
   },
   "file_extension": ".py",
   "mimetype": "text/x-python",
   "name": "python",
   "nbconvert_exporter": "python",
   "pygments_lexer": "ipython3",
   "version": "3.12.0"
  }
 },
 "nbformat": 4,
 "nbformat_minor": 2
}
