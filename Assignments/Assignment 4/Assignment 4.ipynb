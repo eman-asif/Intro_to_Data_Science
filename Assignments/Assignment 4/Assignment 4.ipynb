{
 "cells": [
  {
   "cell_type": "markdown",
   "metadata": {},
   "source": [
    "# Assignment 4"
   ]
  },
  {
   "cell_type": "markdown",
   "metadata": {},
   "source": [
    "Set up two arrays to represent daily data: \n",
    "- temperature_data: Randomly generated temperature values in \n",
    "Celsius, ranging between -10 and 40 degrees, for each of the 500 locations \n",
    "across 365 days. \n",
    "- humidity_data: Randomly generated humidity percentages, ranging \n",
    "from 0 to 100, for each location and day"
   ]
  },
  {
   "cell_type": "code",
   "execution_count": 13,
   "metadata": {},
   "outputs": [],
   "source": [
    "import numpy as np\n",
    "\n",
    "temperature_data = np.random.uniform(-10, 40, (365, 500))\n",
    "humidity_data = np.random.uniform(0, 100, (365, 500))"
   ]
  },
  {
   "cell_type": "markdown",
   "metadata": {},
   "source": [
    "Simulate missing data by randomly setting 5% of the values in temperature_data \n",
    "and humidity_data to null values. Determine how many null values exist in each \n",
    "array and report the total number of missing entries."
   ]
  },
  {
   "cell_type": "code",
   "execution_count": null,
   "metadata": {},
   "outputs": [],
   "source": [
    "\n",
    "total_elements = temperature_data.size\n",
    "missing_indices_temp = np.random.choice(total_elements, int(total_elements * 0.05), replace=False)\n",
    "missing_indices_humidity = np.random.choice(total_elements, int(total_elements * 0.05), replace=False)\n",
    "\n",
    "\n"
   ]
  },
  {
   "cell_type": "markdown",
   "metadata": {},
   "source": [
    "Convert temperature_data from Celsius to Fahrenheit to facilitate data sharing with \n",
    "international teams. Then, compute a \"feels like\" discomfort index by combining \n",
    "temperature and humidity data."
   ]
  },
  {
   "cell_type": "code",
   "execution_count": null,
   "metadata": {},
   "outputs": [
    {
     "name": "stdout",
     "output_type": "stream",
     "text": [
      "Missing entries in temperature data: 18257\n",
      "Missing entries in humidity data: 0\n"
     ]
    }
   ],
   "source": [
    "\n",
    "temperature_data_fahrenheit = (temperature_data * 9/5) + 32\n",
    "\n",
    "\n",
    "discomfort_index = temperature_data_fahrenheit + 0.5555 * (humidity_data - 10)\n",
    "discomfort_index = np.where(discomfort_index > 80, 80, discomfort_index)\n",
    "temperature_data.flatten()[missing_indices_temp] = np.nan\n",
    "humidity_data.flatten()[missing_indices_humidity] = np.nan\n",
    "\n",
    "temp_missing_count = np.isnan(temperature_data).sum()\n",
    "humidity_missing_count = np.isnan(humidity_data).sum()\n",
    "\n",
    "print(f\"Missing entries in temperature data: {temp_missing_count}\")\n",
    "print(f\"Missing entries in humidity data: {humidity_missing_count}\")"
   ]
  },
  {
   "cell_type": "markdown",
   "metadata": {},
   "source": [
    "Extract the daily temperatures for January (first 31 days). Calculate and display the \n",
    "average January temperature across all 500 locations. "
   ]
  },
  {
   "cell_type": "code",
   "execution_count": 16,
   "metadata": {},
   "outputs": [
    {
     "name": "stdout",
     "output_type": "stream",
     "text": [
      "Average January temperature across all locations: 15.16°C\n"
     ]
    }
   ],
   "source": [
    "january_temperatures = temperature_data[:31, :]\n",
    "january_avg_temp = np.nanmean(january_temperatures)\n",
    "\n",
    "print(f\"Average January temperature across all locations: {january_avg_temp:.2f}°C\")\n"
   ]
  },
  {
   "cell_type": "markdown",
   "metadata": {},
   "source": [
    "Mark any temperature in temperature_data that exceeds 35°C as a potential error \n",
    "by replacing it with a null value. Count the number of null values per location. "
   ]
  },
  {
   "cell_type": "code",
   "execution_count": 17,
   "metadata": {},
   "outputs": [],
   "source": [
    "temperature_data[temperature_data > 35] = np.nan\n",
    "null_counts_per_location = np.isnan(temperature_data).sum(axis=0)\n",
    "\n"
   ]
  },
  {
   "cell_type": "markdown",
   "metadata": {},
   "source": [
    "Reshape temperature_data into four quarters (one per season) and calculate the \n",
    "average temperature for each location across these quarters."
   ]
  },
  {
   "cell_type": "code",
   "execution_count": 18,
   "metadata": {},
   "outputs": [],
   "source": [
    "quarters = np.array_split(temperature_data, 4, axis=0)\n",
    "quarterly_averages = [np.nanmean(quarter, axis=0) for quarter in quarters]\n"
   ]
  },
  {
   "cell_type": "markdown",
   "metadata": {},
   "source": [
    "Classify each day’s humidity level as \"Dry\" if below 30% and \"Humid\" if above 70%, \n",
    "and count the total number of \"Dry\" and \"Humid\" days for each location."
   ]
  },
  {
   "cell_type": "code",
   "execution_count": 19,
   "metadata": {},
   "outputs": [],
   "source": [
    "dry_days = (humidity_data < 30).sum(axis=0)\n",
    "humid_days = (humidity_data > 70).sum(axis=0)\n",
    "\n"
   ]
  },
  {
   "cell_type": "markdown",
   "metadata": {},
   "source": [
    "Account for daily atmospheric pressure variations by generating a trend across the \n",
    "365 days and applying it to adjust daily temperatures at each location."
   ]
  },
  {
   "cell_type": "code",
   "execution_count": 20,
   "metadata": {},
   "outputs": [
    {
     "name": "stdout",
     "output_type": "stream",
     "text": [
      "Quarterly average temperatures (sample): [array([10.47944367, 10.91179786, 13.44319675, 12.96853739, 11.91465976]), array([11.48222139, 11.53743509, 12.15650601, 13.19875704, 14.83182828]), array([14.06437189, 14.45398191, 14.45160953, 12.95978906, 11.74960196]), array([11.32588952, 12.92334786, 11.60195373, 12.16190604,  9.20413021])]\n",
      "Sample Dry and Humid day counts: [ 95 120 106 104  96] [124 109  98 109 117]\n",
      "Adjusted temperature data sample: [[-1.51726937 11.66856995         nan 28.63162652 -6.06052278]\n",
      " [-8.05709075 11.75678746 20.60742503  7.61311084 12.98094015]\n",
      " [ 7.54294652         nan  9.22597422  5.83664342 -4.05301425]\n",
      " [27.84163147 18.81165062  7.35991543 10.03293235 22.36469886]\n",
      " [ 3.9860543          nan 26.30053763 12.04205539  3.26086488]]\n"
     ]
    }
   ],
   "source": [
    "pressure_trend = np.linspace(-1, 1, 365)  \n",
    "adjusted_temperature_data = temperature_data + pressure_trend[:, np.newaxis]\n",
    "\n",
    "print(\"Quarterly average temperatures (sample):\", [q[:5] for q in quarterly_averages])\n",
    "print(\"Sample Dry and Humid day counts:\", dry_days[:5], humid_days[:5])\n",
    "print(\"Adjusted temperature data sample:\", adjusted_temperature_data[:5, :5])\n"
   ]
  }
 ],
 "metadata": {
  "kernelspec": {
   "display_name": "Python 3",
   "language": "python",
   "name": "python3"
  },
  "language_info": {
   "codemirror_mode": {
    "name": "ipython",
    "version": 3
   },
   "file_extension": ".py",
   "mimetype": "text/x-python",
   "name": "python",
   "nbconvert_exporter": "python",
   "pygments_lexer": "ipython3",
   "version": "3.12.0"
  }
 },
 "nbformat": 4,
 "nbformat_minor": 2
}
