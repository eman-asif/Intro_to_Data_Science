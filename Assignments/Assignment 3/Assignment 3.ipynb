{
 "cells": [
  {
   "cell_type": "markdown",
   "metadata": {},
   "source": [
    "\n",
    "\n",
    "**Assignment 3: Python Programming Concepts**\n",
    "---\n",
    "\n",
    "### **Task 1: E-commerce Data Processing**\n",
    "\n",
    "You are tasked with building a system to handle order and customer data for an online store. The system needs to use lambda functions, Python's built-in functions (e.g., `map()`, `filter()`, `reduce()`), and proper exception handling.\n",
    "\n",
    "#### **Part A: Data Validation**\n",
    "\n",
    "You are given a list of dictionaries where each dictionary represents an order with customer details.\n",
    "\n",
    "```python\n",
    "orders = [\n",
    "    {\"customer\": \"Alice\", \"total\": 250.5},\n",
    "    {\"customer\": \"Bob\", \"total\": \"invalid_data\"},\n",
    "    {\"customer\": \"Charlie\", \"total\": 450},\n",
    "    {\"customer\": \"Daisy\", \"total\": 100.0},\n",
    "    {\"customer\": \"Eve\", \"total\": -30},  # Invalid total\n",
    "]\n",
    "```\n",
    "\n",
    "Write a function that:\n",
    "- Uses a lambda function with the `filter()` built-in function to filter out invalid orders where the total is either non-numeric or less than zero.\n",
    "- Uses exception handling to handle any type conversion issues.\n",
    "- Returns the filtered valid orders as a list of dictionaries.\n",
    "\n",
    "---"
   ]
  },
  {
   "cell_type": "code",
   "execution_count": 10,
   "metadata": {},
   "outputs": [
    {
     "name": "stdout",
     "output_type": "stream",
     "text": [
      "[{'customer': 'Alice', 'total': 250.5}, {'customer': 'Charlie', 'total': 450}, {'customer': 'Daisy', 'total': 100.0}]\n"
     ]
    }
   ],
   "source": [
    "def validate_orders(orders):\n",
    "    valid_orders = list(filter(is_valid_order, orders))\n",
    "    return valid_orders\n",
    "def is_valid_order(order):\n",
    "        try:\n",
    "            total = float(order[\"total\"]) \n",
    "            return total >= 0  \n",
    "        except (ValueError, TypeError): \n",
    "            return False\n",
    "orders = [ \n",
    "    {\"customer\": \"Alice\", \"total\": 250.5}, \n",
    "    {\"customer\": \"Bob\", \"total\": \"invalid_data\"}, \n",
    "    {\"customer\": \"Charlie\", \"total\": 450}, \n",
    "    {\"customer\": \"Daisy\", \"total\": 100.0}, \n",
    "    {\"customer\": \"Eve\", \"total\": -30},  # Invalid total \n",
    "]\n",
    "values = validate_orders(orders)\n",
    "print((values))"
   ]
  },
  {
   "cell_type": "markdown",
   "metadata": {},
   "source": [
    "\n",
    "\n",
    "#### **Part B: Discount Application**\n",
    "\n",
    "After validating the orders, the store is offering a 10% discount on all orders above $300.\n",
    "\n",
    "Write a function that:\n",
    "- Uses the `map()` function with a lambda to apply the discount to qualifying orders.\n",
    "- Returns a new list with the updated totals for each customer.\n",
    "\n",
    "---"
   ]
  },
  {
   "cell_type": "code",
   "execution_count": 17,
   "metadata": {},
   "outputs": [
    {
     "name": "stdout",
     "output_type": "stream",
     "text": [
      "[{'total': 250.5}, {'total': 315.0}, {'total': 405.0}, {'total': 100.0}, {'total': -30}]\n"
     ]
    }
   ],
   "source": [
    "orders = [ \n",
    "    {\"customer\": \"Alice\", \"total\": 250.5}, \n",
    "    {\"customer\": \"Bob\", \"total\": 350}, \n",
    "    {\"customer\": \"Charlie\", \"total\": 450}, \n",
    "    {\"customer\": \"Daisy\", \"total\": 100.0}, \n",
    "    {\"customer\": \"Eve\", \"total\": -30},  # Invalid total \n",
    "]\n",
    "values = list(map(lambda x: {\"total\":x[\"total\"] * 0.9 if x[\"total\"] > 300 else x[\"total\"]} , orders))\n",
    "print(values)"
   ]
  },
  {
   "cell_type": "markdown",
   "metadata": {},
   "source": [
    "#### **Part C: Total Sales Calculation**\n",
    "\n",
    "Use the `reduce()` function with a lambda to:\n",
    "- Calculate the total sales from the list of valid orders (after applying discounts).\n",
    "\n",
    "---"
   ]
  },
  {
   "cell_type": "code",
   "execution_count": null,
   "metadata": {},
   "outputs": [
    {
     "name": "stdout",
     "output_type": "stream",
     "text": [
      "820.5\n"
     ]
    }
   ],
   "source": [
    "from functools import reduce\n",
    "orders = [ \n",
    "    {\"customer\": \"Alice\", \"total\": 250.5}, \n",
    "    {\"customer\": \"Bob\", \"total\": 50}, \n",
    "    {\"customer\": \"Charlie\", \"total\": 450}, \n",
    "    {\"customer\": \"Daisy\", \"total\": 100.0}, \n",
    "    {\"customer\": \"Eve\", \"total\": -30},  # Invalid total \n",
    "]\n",
    "total = reduce(lambda t, x: t + x[\"total\"], orders, 0)\n",
    "print(total)"
   ]
  },
  {
   "cell_type": "markdown",
   "metadata": {},
   "source": [
    "### **Task 2: Iterator and Generator**\n",
    "\n",
    "#### **Part A: Custom Iterator**\n",
    "\n",
    "Create a custom iterator class `SquareIterator` that:\n",
    "- Takes an integer `n` and iterates over the first `n` natural numbers, yielding their squares.\n",
    "\n",
    "---\n"
   ]
  },
  {
   "cell_type": "code",
   "execution_count": 25,
   "metadata": {},
   "outputs": [
    {
     "name": "stdout",
     "output_type": "stream",
     "text": [
      "0\n",
      "1\n",
      "4\n",
      "9\n",
      "16\n",
      "25\n",
      "36\n",
      "49\n",
      "64\n",
      "81\n"
     ]
    }
   ],
   "source": [
    "def gen(n):\n",
    "    for i in range(n):\n",
    "        yield i **2\n",
    "\n",
    "n = 10\n",
    "for i in gen(n):\n",
    "    print(i)\n",
    "\n"
   ]
  },
  {
   "cell_type": "markdown",
   "metadata": {},
   "source": [
    "#### **Part B: Fibonacci Generator**\n",
    "\n",
    "Write a generator function `fibonacci_generator()` that:\n",
    "- Yields the Fibonacci sequence up to the number `n`.\n",
    "\n",
    "---"
   ]
  },
  {
   "cell_type": "code",
   "execution_count": 23,
   "metadata": {},
   "outputs": [
    {
     "name": "stdout",
     "output_type": "stream",
     "text": [
      "0\n",
      "1\n",
      "1\n",
      "2\n",
      "3\n",
      "5\n",
      "8\n"
     ]
    }
   ],
   "source": [
    "\n",
    "def fibonacci_generator(n):\n",
    "    a, b = 0, 1\n",
    "    while a <= n:\n",
    "        yield a\n",
    "        a, b = b, a + b\n",
    "\n",
    "for num in fibonacci_generator(10):\n",
    "    print(num)"
   ]
  },
  {
   "cell_type": "markdown",
   "metadata": {},
   "source": [
    "### **Task 3: Exception Handling and Function Decorator**\n",
    "\n",
    "You need to implement robust exception handling in the system.\n",
    "\n",
    "#### **Part A: Chained Exceptions**\n",
    "\n",
    "Write a function that:\n",
    "- Takes a list of numbers and tries to divide each number by a divisor.\n",
    "- If the divisor is zero, raise a custom exception.\n",
    "- If any other error occurs (e.g., non-numeric input), raise an appropriate exception and chain it to the custom exception to provide context.\n",
    "\n",
    "---"
   ]
  },
  {
   "cell_type": "code",
   "execution_count": null,
   "metadata": {},
   "outputs": [],
   "source": [
    "\n",
    "class DivisionByZeroError(Exception):\n",
    "    pass\n",
    "\n",
    "def divide_numbers(numbers, divisor):\n",
    "    try:\n",
    "        if divisor == 0:\n",
    "            raise DivisionByZeroError(\"Dision not possibleeee\")\n",
    "        \n",
    "        return [num / divisor for num in numbers]\n",
    "    \n",
    "    except DivisionByZeroError as e:\n",
    "        raise e \n",
    "    except Exception as e:\n",
    "        raise ValueError(\"An error has occured\") from e  \n",
    "try:\n",
    "    lis_of_n = [10,20,30]\n",
    "    result = divide_numbers(lis_of_n, 0)\n",
    "    print(result)\n",
    "except Exception as e:\n",
    "    print(f\"Error is {e}\")\n"
   ]
  },
  {
   "cell_type": "markdown",
   "metadata": {},
   "source": [
    "#### **Part B: Exception Logging Decorator**\n",
    "\n",
    "Create a decorator that:\n",
    "- Logs exceptions raised during the execution of a function.\n",
    "- It should print the exception type, message, and the function where the exception occurred.\n",
    "\n",
    "---"
   ]
  },
  {
   "cell_type": "code",
   "execution_count": 26,
   "metadata": {},
   "outputs": [
    {
     "name": "stdout",
     "output_type": "stream",
     "text": [
      "Exception in function 'helper': ZeroDivisionError - division by zero\n"
     ]
    }
   ],
   "source": [
    "import functools\n",
    "def exception_log(func):\n",
    "    @functools.wraps(func)\n",
    "    def wrapper(*args, **kwargs):\n",
    "        try:\n",
    "            return func(*args, **kwargs)\n",
    "        except Exception as e:\n",
    "            print(f\"Exception in function '{func.__name__}': {type(e).__name__} - {e}\")\n",
    "            raise \n",
    "    return wrapper\n",
    "\n",
    "@exception_log\n",
    "def helper(x, y):\n",
    "    return x / y\n",
    "\n",
    "try:\n",
    "    helper(10, 0)\n",
    "except ZeroDivisionError:\n",
    "    pass\n"
   ]
  }
 ],
 "metadata": {
  "kernelspec": {
   "display_name": "Python 3",
   "language": "python",
   "name": "python3"
  },
  "language_info": {
   "codemirror_mode": {
    "name": "ipython",
    "version": 3
   },
   "file_extension": ".py",
   "mimetype": "text/x-python",
   "name": "python",
   "nbconvert_exporter": "python",
   "pygments_lexer": "ipython3",
   "version": "3.12.0"
  }
 },
 "nbformat": 4,
 "nbformat_minor": 2
}
