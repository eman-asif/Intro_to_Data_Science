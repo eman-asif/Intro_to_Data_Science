{
 "cells": [
  {
   "cell_type": "markdown",
   "metadata": {},
   "source": [
    "## Part 1: User Data Processing with Lists\n",
    "\n",
    "A function to:\n",
    "- Filter out users older than 30 from specific countries (‘USA’, ‘Canada’).\n",
    "- Extract their names into a new list."
   ]
  },
  {
   "cell_type": "code",
   "execution_count": 2,
   "metadata": {},
   "outputs": [],
   "source": [
    "def filter_users(list_of_tuples):\n",
    "    new_list = []\n",
    "    age_limit = 30\n",
    "    for id , name , age , country in list_of_tuples:\n",
    "        if age > age_limit and (country == \"USA\" or country == \"Canada\"):\n",
    "            new_list.append(name)\n",
    "    return new_list "
   ]
  },
  {
   "cell_type": "markdown",
   "metadata": {},
   "source": [
    "A function to:\n",
    "- Sorts the original list of tuples by age and returns the top 10 oldest users.\n",
    "- checks if there are any users with duplicate names in the list. If duplicates are\n",
    " found, output those names"
   ]
  },
  {
   "cell_type": "code",
   "execution_count": 3,
   "metadata": {},
   "outputs": [],
   "source": [
    "def func(tup):\n",
    "    return tup[2]\n",
    "def sort_and_display(list_of_tuples):\n",
    "    list_of_tuples.sort(key= func, reverse=True)\n",
    "    dup = set()\n",
    "    for name , age, country in list_of_tuples:\n",
    "        if name in dup:\n",
    "            print(name)\n",
    "    return list_of_tuples[:10]"
   ]
  },
  {
   "cell_type": "markdown",
   "metadata": {},
   "source": [
    "## Part 2: Immutable Data Management with Tuples\n",
    "\n",
    "A function that:\n",
    "- Takes a list of transactions (tuples) and finds the total number of unique users\n",
    "involved in transactions.\n",
    "- Ensures the integrity of the tuples by avoiding any changes to the original data"
   ]
  },
  {
   "cell_type": "code",
   "execution_count": 4,
   "metadata": {},
   "outputs": [],
   "source": [
    "def total_unique_users(list_of_tuples):\n",
    "    unique = set()\n",
    "    count = 0\n",
    "    for id , uid , amount , ts in list_of_tuples:\n",
    "        if uid  not in unique:\n",
    "            unique.add(uid)\n",
    "            count += 1\n",
    "    return count\n",
    "    "
   ]
  },
  {
   "cell_type": "markdown",
   "metadata": {},
   "source": [
    "A function that:\n",
    "- Identifies and returns the transaction with the highest amount without altering the\n",
    "list of tuples.\n",
    "- receives a list of tuples and returns two separate lists: one containing all the\n",
    "transaction_ids and the other containing all user_ids. What challenges might\n",
    "arise if the tuple size is inconsistent?"
   ]
  },
  {
   "cell_type": "code",
   "execution_count": 5,
   "metadata": {},
   "outputs": [],
   "source": [
    "def return_transection(transections):\n",
    "    max = (0,0,0,0)\n",
    "    tid_list = set()\n",
    "    uid_list = set()\n",
    "    for t in transections:\n",
    "        if t[2] > max[2]:\n",
    "            max = t\n",
    "        tid_list.add(t[0])\n",
    "        uid_list.add(t[1])\n",
    "    return max , tid_list, uid_list"
   ]
  },
  {
   "cell_type": "markdown",
   "metadata": {},
   "source": [
    "## Part 3 :Unique Data Handling with Sets\n",
    "A function that:\n",
    "- Finds the users who visited both Page A and Page B.\n",
    "- Finds users who visited either Page A or Page C, but not both\n"
   ]
  },
  {
   "cell_type": "code",
   "execution_count": 6,
   "metadata": {},
   "outputs": [],
   "source": [
    "def func(setA, setB, setC):\n",
    "    users1 = set()\n",
    "    users2 = set()\n",
    "    for i in setA:\n",
    "        if i in setB:\n",
    "            users1.add(i)\n",
    "        if i not in setC:\n",
    "            users2.add(i)\n",
    "    for i in setC:\n",
    "        if i not in setA:\n",
    "            users2.add(i)\n",
    "    return users1 , users2\n",
    "    "
   ]
  },
  {
   "cell_type": "markdown",
   "metadata": {},
   "source": [
    "A function that:\n",
    " - Updates the set for Page A with new user IDs.\n",
    " - Removesalist of user IDs from the set for Page B."
   ]
  },
  {
   "cell_type": "code",
   "execution_count": 7,
   "metadata": {},
   "outputs": [],
   "source": [
    "def func(setA, setB, setC):\n",
    "    pass"
   ]
  },
  {
   "cell_type": "markdown",
   "metadata": {},
   "source": [
    " ## Part 4: Data Aggregation with Dictionaries\n",
    " A function that:\n",
    " - Filters out users who rated 4 or higher and stores their user_id and rating in a\n",
    " new dictionary.\n",
    " - sort the dictionary of user feedback by rating in descending order and return the\n",
    " top 5 users."
   ]
  },
  {
   "cell_type": "code",
   "execution_count": null,
   "metadata": {},
   "outputs": [],
   "source": [
    "def func(transections):\n",
    "    new = {}\n",
    "    for key in transections.keys():\n",
    "        if transections[key]['ratings'] >= 4:\n",
    "            new[key] = transections[key]['ratings']\n",
    "    sorted_dict = sorted(transections, key = f,reverse = True )\n",
    "    return new , sorted_dict[:5]\n",
    "\n",
    "def f(dictionary):\n",
    "    return dictionary['ratings']"
   ]
  },
  {
   "cell_type": "markdown",
   "metadata": {},
   "source": [
    "a function that:\n",
    " - Combines feedback from multiple dictionaries. If a user is present in more than\n",
    " one dictionary, update their rating to the highest one and append their comments.\n",
    " - Usedictionary comprehension to create a dictionary of user_id and rating for all\n",
    " users whose rating is greater than 3."
   ]
  },
  {
   "cell_type": "code",
   "execution_count": null,
   "metadata": {},
   "outputs": [],
   "source": [
    "def func1(*dictionary):\n",
    "    mul_dict_f = {}\n",
    "    for i in dictionary:\n",
    "        for id , details in i:\n",
    "            if id not in mul_dict_f:\n",
    "                mul_dict_f[id] = details\n",
    "            else:\n",
    "                if mul_dict_f[id]['ratings'] < i[id]['ratings']:\n",
    "                    mul_dict_f.update({id:details})\n",
    "\n",
    "def func2(dictionary):\n",
    "\n",
    "    return {user_id: details['rating'] for user_id, details in dictionary.items() if details['rating'] > 3}\n"
   ]
  }
 ],
 "metadata": {
  "kernelspec": {
   "display_name": "Python 3",
   "language": "python",
   "name": "python3"
  },
  "language_info": {
   "codemirror_mode": {
    "name": "ipython",
    "version": 3
   },
   "file_extension": ".py",
   "mimetype": "text/x-python",
   "name": "python",
   "nbconvert_exporter": "python",
   "pygments_lexer": "ipython3",
   "version": "3.12.0"
  }
 },
 "nbformat": 4,
 "nbformat_minor": 2
}
